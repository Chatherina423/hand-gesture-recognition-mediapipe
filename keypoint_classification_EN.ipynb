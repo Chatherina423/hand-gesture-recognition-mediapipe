{
 "cells": [
  {
   "cell_type": "code",
   "execution_count": 1,
   "metadata": {
    "id": "igMyGnjE9hEp"
   },
   "outputs": [],
   "source": [
    "import csv\n",
    "\n",
    "import numpy as np\n",
    "import tensorflow as tf\n",
    "from sklearn.model_selection import train_test_split\n",
    "\n",
    "RANDOM_SEED = 42"
   ]
  },
  {
   "cell_type": "markdown",
   "metadata": {
    "id": "t2HDvhIu9hEr"
   },
   "source": [
    "# Specify each path"
   ]
  },
  {
   "cell_type": "code",
   "execution_count": 2,
   "metadata": {
    "id": "9NvZP2Zn9hEy"
   },
   "outputs": [],
   "source": [
    "dataset = 'model/keypoint_classifier/keypoint.csv'\n",
    "model_save_path = 'model/keypoint_classifier/keypoint_classifier.hdf5'\n",
    "tflite_save_path = 'model/keypoint_classifier/keypoint_classifier.tflite'"
   ]
  },
  {
   "cell_type": "markdown",
   "metadata": {
    "id": "s5oMH7x19hEz"
   },
   "source": [
    "# Set number of classes"
   ]
  },
  {
   "cell_type": "code",
   "execution_count": 3,
   "metadata": {
    "id": "du4kodXL9hEz"
   },
   "outputs": [],
   "source": [
    "NUM_CLASSES = 5"
   ]
  },
  {
   "cell_type": "markdown",
   "metadata": {
    "id": "XjnL0uso9hEz"
   },
   "source": [
    "# Dataset reading"
   ]
  },
  {
   "cell_type": "code",
   "execution_count": 4,
   "metadata": {
    "id": "QT5ZqtEz9hE0"
   },
   "outputs": [],
   "source": [
    "X_dataset = np.loadtxt(dataset, delimiter=',', dtype='float32', usecols=list(range(1, (21 * 2) + 1)))"
   ]
  },
  {
   "cell_type": "code",
   "execution_count": 5,
   "metadata": {
    "id": "QmoKFsp49hE0"
   },
   "outputs": [],
   "source": [
    "y_dataset = np.loadtxt(dataset, delimiter=',', dtype='int32', usecols=(0))"
   ]
  },
  {
   "cell_type": "code",
   "execution_count": 6,
   "metadata": {
    "id": "xQU7JTZ_9hE0"
   },
   "outputs": [],
   "source": [
    "X_train, X_test, y_train, y_test = train_test_split(X_dataset, y_dataset, train_size=0.75, random_state=RANDOM_SEED)"
   ]
  },
  {
   "cell_type": "markdown",
   "metadata": {
    "id": "mxK_lETT9hE0"
   },
   "source": [
    "# Model building"
   ]
  },
  {
   "cell_type": "code",
   "execution_count": 7,
   "metadata": {
    "id": "vHBmUf1t9hE1"
   },
   "outputs": [],
   "source": [
    "model = tf.keras.models.Sequential([\n",
    "    tf.keras.layers.Input((21 * 2, )),\n",
    "    tf.keras.layers.Dropout(0.2),\n",
    "    tf.keras.layers.Dense(20, activation='relu'),\n",
    "    tf.keras.layers.Dropout(0.4),\n",
    "    tf.keras.layers.Dense(10, activation='relu'),\n",
    "    tf.keras.layers.Dense(NUM_CLASSES, activation='softmax')\n",
    "])"
   ]
  },
  {
   "cell_type": "code",
   "execution_count": 8,
   "metadata": {
    "colab": {
     "base_uri": "https://localhost:8080/"
    },
    "id": "ypqky9tc9hE1",
    "outputId": "5db082bb-30e3-4110-bf63-a1ee777ecd46"
   },
   "outputs": [
    {
     "name": "stdout",
     "output_type": "stream",
     "text": [
      "Model: \"sequential\"\n",
      "_________________________________________________________________\n",
      "Layer (type)                 Output Shape              Param #   \n",
      "=================================================================\n",
      "dropout (Dropout)            (None, 42)                0         \n",
      "_________________________________________________________________\n",
      "dense (Dense)                (None, 20)                860       \n",
      "_________________________________________________________________\n",
      "dropout_1 (Dropout)          (None, 20)                0         \n",
      "_________________________________________________________________\n",
      "dense_1 (Dense)              (None, 10)                210       \n",
      "_________________________________________________________________\n",
      "dense_2 (Dense)              (None, 5)                 55        \n",
      "=================================================================\n",
      "Total params: 1,125\n",
      "Trainable params: 1,125\n",
      "Non-trainable params: 0\n",
      "_________________________________________________________________\n"
     ]
    }
   ],
   "source": [
    "model.summary()  # tf.keras.utils.plot_model(model, show_shapes=True)"
   ]
  },
  {
   "cell_type": "code",
   "execution_count": 9,
   "metadata": {
    "id": "MbMjOflQ9hE1"
   },
   "outputs": [],
   "source": [
    "# Model checkpoint callback\n",
    "cp_callback = tf.keras.callbacks.ModelCheckpoint(\n",
    "    model_save_path, verbose=1, save_weights_only=False)\n",
    "# Callback for early stopping\n",
    "es_callback = tf.keras.callbacks.EarlyStopping(patience=20, verbose=1)"
   ]
  },
  {
   "cell_type": "code",
   "execution_count": 10,
   "metadata": {
    "id": "c3Dac0M_9hE2"
   },
   "outputs": [],
   "source": [
    "# Model compilation\n",
    "model.compile(\n",
    "    optimizer='adam',\n",
    "    loss='sparse_categorical_crossentropy',\n",
    "    metrics=['accuracy']\n",
    ")"
   ]
  },
  {
   "cell_type": "markdown",
   "metadata": {
    "id": "7XI0j1Iu9hE2"
   },
   "source": [
    "# Model training"
   ]
  },
  {
   "cell_type": "code",
   "execution_count": 11,
   "metadata": {
    "colab": {
     "base_uri": "https://localhost:8080/"
    },
    "id": "WirBl-JE9hE3",
    "outputId": "71b30ca2-8294-4d9d-8aa2-800d90d399de",
    "scrolled": true
   },
   "outputs": [
    {
     "name": "stdout",
     "output_type": "stream",
     "text": [
      "Epoch 1/1000\n",
      "29/29 [==============================] - 1s 23ms/step - loss: 1.7052 - accuracy: 0.2427 - val_loss: 1.5038 - val_accuracy: 0.3894\n",
      "\n",
      "Epoch 00001: saving model to model/keypoint_classifier/keypoint_classifier.hdf5\n",
      "Epoch 2/1000\n",
      "29/29 [==============================] - 0s 2ms/step - loss: 1.4875 - accuracy: 0.3468 - val_loss: 1.3532 - val_accuracy: 0.4409\n",
      "\n",
      "Epoch 00002: saving model to model/keypoint_classifier/keypoint_classifier.hdf5\n",
      "Epoch 3/1000\n",
      "29/29 [==============================] - 0s 2ms/step - loss: 1.3676 - accuracy: 0.3994 - val_loss: 1.2653 - val_accuracy: 0.5175\n",
      "\n",
      "Epoch 00003: saving model to model/keypoint_classifier/keypoint_classifier.hdf5\n",
      "Epoch 4/1000\n",
      "29/29 [==============================] - 0s 3ms/step - loss: 1.3121 - accuracy: 0.4257 - val_loss: 1.2003 - val_accuracy: 0.5757\n",
      "\n",
      "Epoch 00004: saving model to model/keypoint_classifier/keypoint_classifier.hdf5\n",
      "Epoch 5/1000\n",
      "29/29 [==============================] - 0s 3ms/step - loss: 1.2510 - accuracy: 0.4465 - val_loss: 1.1424 - val_accuracy: 0.5724\n",
      "\n",
      "Epoch 00005: saving model to model/keypoint_classifier/keypoint_classifier.hdf5\n",
      "Epoch 6/1000\n",
      "29/29 [==============================] - 0s 3ms/step - loss: 1.2027 - accuracy: 0.4656 - val_loss: 1.0897 - val_accuracy: 0.6248\n",
      "\n",
      "Epoch 00006: saving model to model/keypoint_classifier/keypoint_classifier.hdf5\n",
      "Epoch 7/1000\n",
      "29/29 [==============================] - 0s 2ms/step - loss: 1.1510 - accuracy: 0.5083 - val_loss: 1.0416 - val_accuracy: 0.6647\n",
      "\n",
      "Epoch 00007: saving model to model/keypoint_classifier/keypoint_classifier.hdf5\n",
      "Epoch 8/1000\n",
      "29/29 [==============================] - 0s 3ms/step - loss: 1.1079 - accuracy: 0.5337 - val_loss: 0.9917 - val_accuracy: 0.6797\n",
      "\n",
      "Epoch 00008: saving model to model/keypoint_classifier/keypoint_classifier.hdf5\n",
      "Epoch 9/1000\n",
      "29/29 [==============================] - 0s 3ms/step - loss: 1.1230 - accuracy: 0.5050 - val_loss: 0.9438 - val_accuracy: 0.7072\n",
      "\n",
      "Epoch 00009: saving model to model/keypoint_classifier/keypoint_classifier.hdf5\n",
      "Epoch 10/1000\n",
      "29/29 [==============================] - 0s 3ms/step - loss: 1.0645 - accuracy: 0.5434 - val_loss: 0.8943 - val_accuracy: 0.7296\n",
      "\n",
      "Epoch 00010: saving model to model/keypoint_classifier/keypoint_classifier.hdf5\n",
      "Epoch 11/1000\n",
      "29/29 [==============================] - 0s 3ms/step - loss: 1.0294 - accuracy: 0.5526 - val_loss: 0.8546 - val_accuracy: 0.7537\n",
      "\n",
      "Epoch 00011: saving model to model/keypoint_classifier/keypoint_classifier.hdf5\n",
      "Epoch 12/1000\n",
      "29/29 [==============================] - 0s 3ms/step - loss: 1.0041 - accuracy: 0.5816 - val_loss: 0.8144 - val_accuracy: 0.7637\n",
      "\n",
      "Epoch 00012: saving model to model/keypoint_classifier/keypoint_classifier.hdf5\n",
      "Epoch 13/1000\n",
      "29/29 [==============================] - 0s 2ms/step - loss: 0.9776 - accuracy: 0.5990 - val_loss: 0.7775 - val_accuracy: 0.7928\n",
      "\n",
      "Epoch 00013: saving model to model/keypoint_classifier/keypoint_classifier.hdf5\n",
      "Epoch 14/1000\n",
      "29/29 [==============================] - 0s 2ms/step - loss: 0.9600 - accuracy: 0.6144 - val_loss: 0.7450 - val_accuracy: 0.7953\n",
      "\n",
      "Epoch 00014: saving model to model/keypoint_classifier/keypoint_classifier.hdf5\n",
      "Epoch 15/1000\n",
      "29/29 [==============================] - 0s 3ms/step - loss: 0.9155 - accuracy: 0.6275 - val_loss: 0.7179 - val_accuracy: 0.8095\n",
      "\n",
      "Epoch 00015: saving model to model/keypoint_classifier/keypoint_classifier.hdf5\n",
      "Epoch 16/1000\n",
      "29/29 [==============================] - 0s 3ms/step - loss: 0.9394 - accuracy: 0.6217 - val_loss: 0.6979 - val_accuracy: 0.8203\n",
      "\n",
      "Epoch 00016: saving model to model/keypoint_classifier/keypoint_classifier.hdf5\n",
      "Epoch 17/1000\n",
      "29/29 [==============================] - 0s 3ms/step - loss: 0.9089 - accuracy: 0.6407 - val_loss: 0.6794 - val_accuracy: 0.8136\n",
      "\n",
      "Epoch 00017: saving model to model/keypoint_classifier/keypoint_classifier.hdf5\n",
      "Epoch 18/1000\n",
      "29/29 [==============================] - 0s 3ms/step - loss: 0.9027 - accuracy: 0.6322 - val_loss: 0.6612 - val_accuracy: 0.8203\n",
      "\n",
      "Epoch 00018: saving model to model/keypoint_classifier/keypoint_classifier.hdf5\n",
      "Epoch 19/1000\n",
      "29/29 [==============================] - 0s 3ms/step - loss: 0.9035 - accuracy: 0.6355 - val_loss: 0.6425 - val_accuracy: 0.8328\n",
      "\n",
      "Epoch 00019: saving model to model/keypoint_classifier/keypoint_classifier.hdf5\n",
      "Epoch 20/1000\n",
      "29/29 [==============================] - 0s 3ms/step - loss: 0.8943 - accuracy: 0.6310 - val_loss: 0.6294 - val_accuracy: 0.8336\n",
      "\n",
      "Epoch 00020: saving model to model/keypoint_classifier/keypoint_classifier.hdf5\n",
      "Epoch 21/1000\n",
      "29/29 [==============================] - 0s 3ms/step - loss: 0.8401 - accuracy: 0.6695 - val_loss: 0.6078 - val_accuracy: 0.8328\n",
      "\n",
      "Epoch 00021: saving model to model/keypoint_classifier/keypoint_classifier.hdf5\n",
      "Epoch 22/1000\n",
      "29/29 [==============================] - 0s 3ms/step - loss: 0.8315 - accuracy: 0.6672 - val_loss: 0.5958 - val_accuracy: 0.8411\n",
      "\n",
      "Epoch 00022: saving model to model/keypoint_classifier/keypoint_classifier.hdf5\n",
      "Epoch 23/1000\n",
      "29/29 [==============================] - 0s 3ms/step - loss: 0.8545 - accuracy: 0.6581 - val_loss: 0.5908 - val_accuracy: 0.8403\n",
      "\n",
      "Epoch 00023: saving model to model/keypoint_classifier/keypoint_classifier.hdf5\n",
      "Epoch 24/1000\n",
      "29/29 [==============================] - 0s 3ms/step - loss: 0.8513 - accuracy: 0.6670 - val_loss: 0.5850 - val_accuracy: 0.8478\n",
      "\n",
      "Epoch 00024: saving model to model/keypoint_classifier/keypoint_classifier.hdf5\n",
      "Epoch 25/1000\n",
      "29/29 [==============================] - 0s 3ms/step - loss: 0.8116 - accuracy: 0.6773 - val_loss: 0.5704 - val_accuracy: 0.8444\n",
      "\n",
      "Epoch 00025: saving model to model/keypoint_classifier/keypoint_classifier.hdf5\n",
      "Epoch 26/1000\n",
      "29/29 [==============================] - 0s 3ms/step - loss: 0.8325 - accuracy: 0.6579 - val_loss: 0.5578 - val_accuracy: 0.8444\n",
      "\n",
      "Epoch 00026: saving model to model/keypoint_classifier/keypoint_classifier.hdf5\n",
      "Epoch 27/1000\n",
      "29/29 [==============================] - 0s 3ms/step - loss: 0.8407 - accuracy: 0.6657 - val_loss: 0.5530 - val_accuracy: 0.8494\n",
      "\n",
      "Epoch 00027: saving model to model/keypoint_classifier/keypoint_classifier.hdf5\n",
      "Epoch 28/1000\n",
      "29/29 [==============================] - 0s 3ms/step - loss: 0.8110 - accuracy: 0.6730 - val_loss: 0.5414 - val_accuracy: 0.8527\n",
      "\n",
      "Epoch 00028: saving model to model/keypoint_classifier/keypoint_classifier.hdf5\n",
      "Epoch 29/1000\n",
      "29/29 [==============================] - 0s 2ms/step - loss: 0.7703 - accuracy: 0.7027 - val_loss: 0.5314 - val_accuracy: 0.8569\n",
      "\n",
      "Epoch 00029: saving model to model/keypoint_classifier/keypoint_classifier.hdf5\n",
      "Epoch 30/1000\n",
      "29/29 [==============================] - 0s 2ms/step - loss: 0.7929 - accuracy: 0.6760 - val_loss: 0.5279 - val_accuracy: 0.8586\n",
      "\n",
      "Epoch 00030: saving model to model/keypoint_classifier/keypoint_classifier.hdf5\n",
      "Epoch 31/1000\n",
      "29/29 [==============================] - 0s 2ms/step - loss: 0.7875 - accuracy: 0.6833 - val_loss: 0.5193 - val_accuracy: 0.8652\n",
      "\n",
      "Epoch 00031: saving model to model/keypoint_classifier/keypoint_classifier.hdf5\n",
      "Epoch 32/1000\n",
      "29/29 [==============================] - 0s 2ms/step - loss: 0.7561 - accuracy: 0.6916 - val_loss: 0.5092 - val_accuracy: 0.8619\n",
      "\n",
      "Epoch 00032: saving model to model/keypoint_classifier/keypoint_classifier.hdf5\n",
      "Epoch 33/1000\n",
      "29/29 [==============================] - 0s 2ms/step - loss: 0.7746 - accuracy: 0.6872 - val_loss: 0.5042 - val_accuracy: 0.8636\n",
      "\n",
      "Epoch 00033: saving model to model/keypoint_classifier/keypoint_classifier.hdf5\n",
      "Epoch 34/1000\n",
      "29/29 [==============================] - 0s 2ms/step - loss: 0.7639 - accuracy: 0.6972 - val_loss: 0.4952 - val_accuracy: 0.8677\n",
      "\n",
      "Epoch 00034: saving model to model/keypoint_classifier/keypoint_classifier.hdf5\n",
      "Epoch 35/1000\n",
      "29/29 [==============================] - 0s 2ms/step - loss: 0.7603 - accuracy: 0.7042 - val_loss: 0.4860 - val_accuracy: 0.8686\n",
      "\n",
      "Epoch 00035: saving model to model/keypoint_classifier/keypoint_classifier.hdf5\n",
      "Epoch 36/1000\n",
      "29/29 [==============================] - 0s 2ms/step - loss: 0.7861 - accuracy: 0.6836 - val_loss: 0.4865 - val_accuracy: 0.8686\n",
      "\n",
      "Epoch 00036: saving model to model/keypoint_classifier/keypoint_classifier.hdf5\n",
      "Epoch 37/1000\n",
      "29/29 [==============================] - 0s 2ms/step - loss: 0.7436 - accuracy: 0.7134 - val_loss: 0.4738 - val_accuracy: 0.8710\n"
     ]
    },
    {
     "name": "stdout",
     "output_type": "stream",
     "text": [
      "\n",
      "Epoch 00037: saving model to model/keypoint_classifier/keypoint_classifier.hdf5\n",
      "Epoch 38/1000\n",
      "29/29 [==============================] - 0s 2ms/step - loss: 0.7377 - accuracy: 0.7114 - val_loss: 0.4659 - val_accuracy: 0.8686\n",
      "\n",
      "Epoch 00038: saving model to model/keypoint_classifier/keypoint_classifier.hdf5\n",
      "Epoch 39/1000\n",
      "29/29 [==============================] - 0s 2ms/step - loss: 0.7611 - accuracy: 0.7029 - val_loss: 0.4642 - val_accuracy: 0.8694\n",
      "\n",
      "Epoch 00039: saving model to model/keypoint_classifier/keypoint_classifier.hdf5\n",
      "Epoch 40/1000\n",
      "29/29 [==============================] - 0s 2ms/step - loss: 0.7278 - accuracy: 0.7116 - val_loss: 0.4631 - val_accuracy: 0.8694\n",
      "\n",
      "Epoch 00040: saving model to model/keypoint_classifier/keypoint_classifier.hdf5\n",
      "Epoch 41/1000\n",
      "29/29 [==============================] - 0s 2ms/step - loss: 0.7423 - accuracy: 0.7012 - val_loss: 0.4523 - val_accuracy: 0.8702\n",
      "\n",
      "Epoch 00041: saving model to model/keypoint_classifier/keypoint_classifier.hdf5\n",
      "Epoch 42/1000\n",
      "29/29 [==============================] - 0s 2ms/step - loss: 0.7158 - accuracy: 0.7172 - val_loss: 0.4469 - val_accuracy: 0.8694\n",
      "\n",
      "Epoch 00042: saving model to model/keypoint_classifier/keypoint_classifier.hdf5\n",
      "Epoch 43/1000\n",
      "29/29 [==============================] - 0s 2ms/step - loss: 0.7252 - accuracy: 0.7223 - val_loss: 0.4479 - val_accuracy: 0.8735\n",
      "\n",
      "Epoch 00043: saving model to model/keypoint_classifier/keypoint_classifier.hdf5\n",
      "Epoch 44/1000\n",
      "29/29 [==============================] - 0s 2ms/step - loss: 0.6971 - accuracy: 0.7201 - val_loss: 0.4415 - val_accuracy: 0.8710\n",
      "\n",
      "Epoch 00044: saving model to model/keypoint_classifier/keypoint_classifier.hdf5\n",
      "Epoch 45/1000\n",
      "29/29 [==============================] - 0s 2ms/step - loss: 0.7355 - accuracy: 0.7077 - val_loss: 0.4369 - val_accuracy: 0.8719\n",
      "\n",
      "Epoch 00045: saving model to model/keypoint_classifier/keypoint_classifier.hdf5\n",
      "Epoch 46/1000\n",
      "29/29 [==============================] - 0s 2ms/step - loss: 0.7003 - accuracy: 0.7278 - val_loss: 0.4361 - val_accuracy: 0.8744\n",
      "\n",
      "Epoch 00046: saving model to model/keypoint_classifier/keypoint_classifier.hdf5\n",
      "Epoch 47/1000\n",
      "29/29 [==============================] - 0s 2ms/step - loss: 0.6992 - accuracy: 0.7225 - val_loss: 0.4272 - val_accuracy: 0.8677\n",
      "\n",
      "Epoch 00047: saving model to model/keypoint_classifier/keypoint_classifier.hdf5\n",
      "Epoch 48/1000\n",
      "29/29 [==============================] - 0s 2ms/step - loss: 0.7069 - accuracy: 0.7151 - val_loss: 0.4236 - val_accuracy: 0.8777\n",
      "\n",
      "Epoch 00048: saving model to model/keypoint_classifier/keypoint_classifier.hdf5\n",
      "Epoch 49/1000\n",
      "29/29 [==============================] - 0s 2ms/step - loss: 0.7129 - accuracy: 0.7157 - val_loss: 0.4240 - val_accuracy: 0.8810\n",
      "\n",
      "Epoch 00049: saving model to model/keypoint_classifier/keypoint_classifier.hdf5\n",
      "Epoch 50/1000\n",
      "29/29 [==============================] - 0s 2ms/step - loss: 0.7181 - accuracy: 0.7192 - val_loss: 0.4271 - val_accuracy: 0.8710\n",
      "\n",
      "Epoch 00050: saving model to model/keypoint_classifier/keypoint_classifier.hdf5\n",
      "Epoch 51/1000\n",
      "29/29 [==============================] - 0s 2ms/step - loss: 0.6896 - accuracy: 0.7279 - val_loss: 0.4185 - val_accuracy: 0.8785\n",
      "\n",
      "Epoch 00051: saving model to model/keypoint_classifier/keypoint_classifier.hdf5\n",
      "Epoch 52/1000\n",
      "29/29 [==============================] - 0s 2ms/step - loss: 0.6935 - accuracy: 0.7251 - val_loss: 0.4146 - val_accuracy: 0.8769\n",
      "\n",
      "Epoch 00052: saving model to model/keypoint_classifier/keypoint_classifier.hdf5\n",
      "Epoch 53/1000\n",
      "29/29 [==============================] - 0s 2ms/step - loss: 0.6916 - accuracy: 0.7366 - val_loss: 0.4096 - val_accuracy: 0.8777\n",
      "\n",
      "Epoch 00053: saving model to model/keypoint_classifier/keypoint_classifier.hdf5\n",
      "Epoch 54/1000\n",
      "29/29 [==============================] - 0s 2ms/step - loss: 0.7105 - accuracy: 0.7232 - val_loss: 0.4074 - val_accuracy: 0.8819\n",
      "\n",
      "Epoch 00054: saving model to model/keypoint_classifier/keypoint_classifier.hdf5\n",
      "Epoch 55/1000\n",
      "29/29 [==============================] - 0s 2ms/step - loss: 0.6997 - accuracy: 0.7306 - val_loss: 0.4035 - val_accuracy: 0.8802\n",
      "\n",
      "Epoch 00055: saving model to model/keypoint_classifier/keypoint_classifier.hdf5\n",
      "Epoch 56/1000\n",
      "29/29 [==============================] - 0s 2ms/step - loss: 0.6962 - accuracy: 0.7225 - val_loss: 0.4058 - val_accuracy: 0.8827\n",
      "\n",
      "Epoch 00056: saving model to model/keypoint_classifier/keypoint_classifier.hdf5\n",
      "Epoch 57/1000\n",
      "29/29 [==============================] - 0s 2ms/step - loss: 0.6539 - accuracy: 0.7498 - val_loss: 0.4052 - val_accuracy: 0.8810\n",
      "\n",
      "Epoch 00057: saving model to model/keypoint_classifier/keypoint_classifier.hdf5\n",
      "Epoch 58/1000\n",
      "29/29 [==============================] - 0s 2ms/step - loss: 0.6784 - accuracy: 0.7402 - val_loss: 0.3966 - val_accuracy: 0.8810\n",
      "\n",
      "Epoch 00058: saving model to model/keypoint_classifier/keypoint_classifier.hdf5\n",
      "Epoch 59/1000\n",
      "29/29 [==============================] - 0s 2ms/step - loss: 0.6620 - accuracy: 0.7498 - val_loss: 0.3937 - val_accuracy: 0.8902\n",
      "\n",
      "Epoch 00059: saving model to model/keypoint_classifier/keypoint_classifier.hdf5\n",
      "Epoch 60/1000\n",
      "29/29 [==============================] - 0s 2ms/step - loss: 0.6543 - accuracy: 0.7499 - val_loss: 0.3907 - val_accuracy: 0.8844\n",
      "\n",
      "Epoch 00060: saving model to model/keypoint_classifier/keypoint_classifier.hdf5\n",
      "Epoch 61/1000\n",
      "29/29 [==============================] - 0s 2ms/step - loss: 0.6419 - accuracy: 0.7481 - val_loss: 0.3848 - val_accuracy: 0.8860\n",
      "\n",
      "Epoch 00061: saving model to model/keypoint_classifier/keypoint_classifier.hdf5\n",
      "Epoch 62/1000\n",
      "29/29 [==============================] - 0s 2ms/step - loss: 0.6576 - accuracy: 0.7393 - val_loss: 0.3814 - val_accuracy: 0.8885\n",
      "\n",
      "Epoch 00062: saving model to model/keypoint_classifier/keypoint_classifier.hdf5\n",
      "Epoch 63/1000\n",
      "29/29 [==============================] - 0s 2ms/step - loss: 0.6622 - accuracy: 0.7463 - val_loss: 0.3794 - val_accuracy: 0.8869\n",
      "\n",
      "Epoch 00063: saving model to model/keypoint_classifier/keypoint_classifier.hdf5\n",
      "Epoch 64/1000\n",
      "29/29 [==============================] - 0s 2ms/step - loss: 0.6604 - accuracy: 0.7464 - val_loss: 0.3816 - val_accuracy: 0.8852\n",
      "\n",
      "Epoch 00064: saving model to model/keypoint_classifier/keypoint_classifier.hdf5\n",
      "Epoch 65/1000\n",
      "29/29 [==============================] - 0s 2ms/step - loss: 0.6707 - accuracy: 0.7315 - val_loss: 0.3793 - val_accuracy: 0.8819\n",
      "\n",
      "Epoch 00065: saving model to model/keypoint_classifier/keypoint_classifier.hdf5\n",
      "Epoch 66/1000\n",
      "29/29 [==============================] - 0s 2ms/step - loss: 0.6653 - accuracy: 0.7415 - val_loss: 0.3791 - val_accuracy: 0.8844\n",
      "\n",
      "Epoch 00066: saving model to model/keypoint_classifier/keypoint_classifier.hdf5\n",
      "Epoch 67/1000\n",
      "29/29 [==============================] - 0s 2ms/step - loss: 0.6445 - accuracy: 0.7506 - val_loss: 0.3721 - val_accuracy: 0.8852\n",
      "\n",
      "Epoch 00067: saving model to model/keypoint_classifier/keypoint_classifier.hdf5\n",
      "Epoch 68/1000\n",
      "29/29 [==============================] - 0s 2ms/step - loss: 0.6527 - accuracy: 0.7471 - val_loss: 0.3691 - val_accuracy: 0.8918\n",
      "\n",
      "Epoch 00068: saving model to model/keypoint_classifier/keypoint_classifier.hdf5\n",
      "Epoch 69/1000\n",
      "29/29 [==============================] - 0s 2ms/step - loss: 0.6855 - accuracy: 0.7285 - val_loss: 0.3788 - val_accuracy: 0.8860\n",
      "\n",
      "Epoch 00069: saving model to model/keypoint_classifier/keypoint_classifier.hdf5\n",
      "Epoch 70/1000\n",
      "29/29 [==============================] - 0s 2ms/step - loss: 0.6173 - accuracy: 0.7564 - val_loss: 0.3705 - val_accuracy: 0.8902\n",
      "\n",
      "Epoch 00070: saving model to model/keypoint_classifier/keypoint_classifier.hdf5\n",
      "Epoch 71/1000\n",
      "29/29 [==============================] - 0s 2ms/step - loss: 0.6268 - accuracy: 0.7581 - val_loss: 0.3720 - val_accuracy: 0.8885\n",
      "\n",
      "Epoch 00071: saving model to model/keypoint_classifier/keypoint_classifier.hdf5\n",
      "Epoch 72/1000\n",
      "29/29 [==============================] - 0s 2ms/step - loss: 0.6269 - accuracy: 0.7483 - val_loss: 0.3591 - val_accuracy: 0.8885\n",
      "\n",
      "Epoch 00072: saving model to model/keypoint_classifier/keypoint_classifier.hdf5\n",
      "Epoch 73/1000\n",
      "29/29 [==============================] - 0s 2ms/step - loss: 0.6503 - accuracy: 0.7566 - val_loss: 0.3613 - val_accuracy: 0.8894\n",
      "\n",
      "Epoch 00073: saving model to model/keypoint_classifier/keypoint_classifier.hdf5\n",
      "Epoch 74/1000\n"
     ]
    },
    {
     "name": "stdout",
     "output_type": "stream",
     "text": [
      "29/29 [==============================] - 0s 2ms/step - loss: 0.6544 - accuracy: 0.7503 - val_loss: 0.3599 - val_accuracy: 0.8894\n",
      "\n",
      "Epoch 00074: saving model to model/keypoint_classifier/keypoint_classifier.hdf5\n",
      "Epoch 75/1000\n",
      "29/29 [==============================] - 0s 2ms/step - loss: 0.6229 - accuracy: 0.7583 - val_loss: 0.3603 - val_accuracy: 0.8885\n",
      "\n",
      "Epoch 00075: saving model to model/keypoint_classifier/keypoint_classifier.hdf5\n",
      "Epoch 76/1000\n",
      "29/29 [==============================] - 0s 2ms/step - loss: 0.6574 - accuracy: 0.7459 - val_loss: 0.3611 - val_accuracy: 0.8977\n",
      "\n",
      "Epoch 00076: saving model to model/keypoint_classifier/keypoint_classifier.hdf5\n",
      "Epoch 77/1000\n",
      "29/29 [==============================] - 0s 2ms/step - loss: 0.6249 - accuracy: 0.7599 - val_loss: 0.3576 - val_accuracy: 0.8910\n",
      "\n",
      "Epoch 00077: saving model to model/keypoint_classifier/keypoint_classifier.hdf5\n",
      "Epoch 78/1000\n",
      "29/29 [==============================] - 0s 2ms/step - loss: 0.6459 - accuracy: 0.7581 - val_loss: 0.3524 - val_accuracy: 0.8918\n",
      "\n",
      "Epoch 00078: saving model to model/keypoint_classifier/keypoint_classifier.hdf5\n",
      "Epoch 79/1000\n",
      "29/29 [==============================] - 0s 2ms/step - loss: 0.6315 - accuracy: 0.7669 - val_loss: 0.3553 - val_accuracy: 0.8885\n",
      "\n",
      "Epoch 00079: saving model to model/keypoint_classifier/keypoint_classifier.hdf5\n",
      "Epoch 80/1000\n",
      "29/29 [==============================] - 0s 2ms/step - loss: 0.6316 - accuracy: 0.7511 - val_loss: 0.3551 - val_accuracy: 0.8902\n",
      "\n",
      "Epoch 00080: saving model to model/keypoint_classifier/keypoint_classifier.hdf5\n",
      "Epoch 81/1000\n",
      "29/29 [==============================] - 0s 2ms/step - loss: 0.6439 - accuracy: 0.7611 - val_loss: 0.3467 - val_accuracy: 0.8902\n",
      "\n",
      "Epoch 00081: saving model to model/keypoint_classifier/keypoint_classifier.hdf5\n",
      "Epoch 82/1000\n",
      "29/29 [==============================] - 0s 2ms/step - loss: 0.6539 - accuracy: 0.7553 - val_loss: 0.3505 - val_accuracy: 0.8952\n",
      "\n",
      "Epoch 00082: saving model to model/keypoint_classifier/keypoint_classifier.hdf5\n",
      "Epoch 83/1000\n",
      "29/29 [==============================] - 0s 2ms/step - loss: 0.6329 - accuracy: 0.7528 - val_loss: 0.3518 - val_accuracy: 0.8894\n",
      "\n",
      "Epoch 00083: saving model to model/keypoint_classifier/keypoint_classifier.hdf5\n",
      "Epoch 84/1000\n",
      "29/29 [==============================] - 0s 2ms/step - loss: 0.6120 - accuracy: 0.7696 - val_loss: 0.3483 - val_accuracy: 0.8894\n",
      "\n",
      "Epoch 00084: saving model to model/keypoint_classifier/keypoint_classifier.hdf5\n",
      "Epoch 85/1000\n",
      "29/29 [==============================] - 0s 2ms/step - loss: 0.6385 - accuracy: 0.7523 - val_loss: 0.3440 - val_accuracy: 0.8894\n",
      "\n",
      "Epoch 00085: saving model to model/keypoint_classifier/keypoint_classifier.hdf5\n",
      "Epoch 86/1000\n",
      "29/29 [==============================] - 0s 2ms/step - loss: 0.6351 - accuracy: 0.7493 - val_loss: 0.3386 - val_accuracy: 0.8968\n",
      "\n",
      "Epoch 00086: saving model to model/keypoint_classifier/keypoint_classifier.hdf5\n",
      "Epoch 87/1000\n",
      "29/29 [==============================] - 0s 2ms/step - loss: 0.6333 - accuracy: 0.7451 - val_loss: 0.3382 - val_accuracy: 0.9002\n",
      "\n",
      "Epoch 00087: saving model to model/keypoint_classifier/keypoint_classifier.hdf5\n",
      "Epoch 88/1000\n",
      "29/29 [==============================] - 0s 2ms/step - loss: 0.6381 - accuracy: 0.7607 - val_loss: 0.3405 - val_accuracy: 0.8943\n",
      "\n",
      "Epoch 00088: saving model to model/keypoint_classifier/keypoint_classifier.hdf5\n",
      "Epoch 89/1000\n",
      "29/29 [==============================] - 0s 2ms/step - loss: 0.6039 - accuracy: 0.7646 - val_loss: 0.3434 - val_accuracy: 0.8943\n",
      "\n",
      "Epoch 00089: saving model to model/keypoint_classifier/keypoint_classifier.hdf5\n",
      "Epoch 90/1000\n",
      "29/29 [==============================] - 0s 2ms/step - loss: 0.6267 - accuracy: 0.7600 - val_loss: 0.3433 - val_accuracy: 0.9002\n",
      "\n",
      "Epoch 00090: saving model to model/keypoint_classifier/keypoint_classifier.hdf5\n",
      "Epoch 91/1000\n",
      "29/29 [==============================] - 0s 2ms/step - loss: 0.6091 - accuracy: 0.7554 - val_loss: 0.3388 - val_accuracy: 0.8960\n",
      "\n",
      "Epoch 00091: saving model to model/keypoint_classifier/keypoint_classifier.hdf5\n",
      "Epoch 92/1000\n",
      "29/29 [==============================] - 0s 2ms/step - loss: 0.6074 - accuracy: 0.7671 - val_loss: 0.3321 - val_accuracy: 0.9043\n",
      "\n",
      "Epoch 00092: saving model to model/keypoint_classifier/keypoint_classifier.hdf5\n",
      "Epoch 93/1000\n",
      "29/29 [==============================] - 0s 2ms/step - loss: 0.5978 - accuracy: 0.7712 - val_loss: 0.3300 - val_accuracy: 0.9118\n",
      "\n",
      "Epoch 00093: saving model to model/keypoint_classifier/keypoint_classifier.hdf5\n",
      "Epoch 94/1000\n",
      "29/29 [==============================] - 0s 2ms/step - loss: 0.6416 - accuracy: 0.7551 - val_loss: 0.3345 - val_accuracy: 0.9193\n",
      "\n",
      "Epoch 00094: saving model to model/keypoint_classifier/keypoint_classifier.hdf5\n",
      "Epoch 95/1000\n",
      "29/29 [==============================] - 0s 2ms/step - loss: 0.5884 - accuracy: 0.7673 - val_loss: 0.3297 - val_accuracy: 0.9027\n",
      "\n",
      "Epoch 00095: saving model to model/keypoint_classifier/keypoint_classifier.hdf5\n",
      "Epoch 96/1000\n",
      "29/29 [==============================] - 0s 2ms/step - loss: 0.5778 - accuracy: 0.7791 - val_loss: 0.3326 - val_accuracy: 0.9176\n",
      "\n",
      "Epoch 00096: saving model to model/keypoint_classifier/keypoint_classifier.hdf5\n",
      "Epoch 97/1000\n",
      "29/29 [==============================] - 0s 2ms/step - loss: 0.5948 - accuracy: 0.7664 - val_loss: 0.3301 - val_accuracy: 0.9168\n",
      "\n",
      "Epoch 00097: saving model to model/keypoint_classifier/keypoint_classifier.hdf5\n",
      "Epoch 98/1000\n",
      "29/29 [==============================] - 0s 2ms/step - loss: 0.5663 - accuracy: 0.7889 - val_loss: 0.3208 - val_accuracy: 0.9176\n",
      "\n",
      "Epoch 00098: saving model to model/keypoint_classifier/keypoint_classifier.hdf5\n",
      "Epoch 99/1000\n",
      "29/29 [==============================] - 0s 2ms/step - loss: 0.5993 - accuracy: 0.7760 - val_loss: 0.3218 - val_accuracy: 0.9168\n",
      "\n",
      "Epoch 00099: saving model to model/keypoint_classifier/keypoint_classifier.hdf5\n",
      "Epoch 100/1000\n",
      "29/29 [==============================] - 0s 2ms/step - loss: 0.6179 - accuracy: 0.7698 - val_loss: 0.3291 - val_accuracy: 0.9176\n",
      "\n",
      "Epoch 00100: saving model to model/keypoint_classifier/keypoint_classifier.hdf5\n",
      "Epoch 101/1000\n",
      "29/29 [==============================] - 0s 2ms/step - loss: 0.6135 - accuracy: 0.7629 - val_loss: 0.3232 - val_accuracy: 0.8993\n",
      "\n",
      "Epoch 00101: saving model to model/keypoint_classifier/keypoint_classifier.hdf5\n",
      "Epoch 102/1000\n",
      "29/29 [==============================] - 0s 3ms/step - loss: 0.5771 - accuracy: 0.7817 - val_loss: 0.3258 - val_accuracy: 0.9077\n",
      "\n",
      "Epoch 00102: saving model to model/keypoint_classifier/keypoint_classifier.hdf5\n",
      "Epoch 103/1000\n",
      "29/29 [==============================] - 0s 2ms/step - loss: 0.5908 - accuracy: 0.7756 - val_loss: 0.3165 - val_accuracy: 0.9251\n",
      "\n",
      "Epoch 00103: saving model to model/keypoint_classifier/keypoint_classifier.hdf5\n",
      "Epoch 104/1000\n",
      "29/29 [==============================] - 0s 3ms/step - loss: 0.6073 - accuracy: 0.7661 - val_loss: 0.3148 - val_accuracy: 0.9210\n",
      "\n",
      "Epoch 00104: saving model to model/keypoint_classifier/keypoint_classifier.hdf5\n",
      "Epoch 105/1000\n",
      "29/29 [==============================] - 0s 2ms/step - loss: 0.5959 - accuracy: 0.7673 - val_loss: 0.3241 - val_accuracy: 0.9185\n",
      "\n",
      "Epoch 00105: saving model to model/keypoint_classifier/keypoint_classifier.hdf5\n",
      "Epoch 106/1000\n",
      "29/29 [==============================] - 0s 2ms/step - loss: 0.5826 - accuracy: 0.7887 - val_loss: 0.3196 - val_accuracy: 0.9118\n",
      "\n",
      "Epoch 00106: saving model to model/keypoint_classifier/keypoint_classifier.hdf5\n",
      "Epoch 107/1000\n",
      "29/29 [==============================] - 0s 2ms/step - loss: 0.5790 - accuracy: 0.7691 - val_loss: 0.3199 - val_accuracy: 0.9135\n",
      "\n",
      "Epoch 00107: saving model to model/keypoint_classifier/keypoint_classifier.hdf5\n",
      "Epoch 108/1000\n",
      "29/29 [==============================] - 0s 3ms/step - loss: 0.5759 - accuracy: 0.7740 - val_loss: 0.3220 - val_accuracy: 0.9201\n",
      "\n",
      "Epoch 00108: saving model to model/keypoint_classifier/keypoint_classifier.hdf5\n",
      "Epoch 109/1000\n",
      "29/29 [==============================] - 0s 3ms/step - loss: 0.5972 - accuracy: 0.7805 - val_loss: 0.3250 - val_accuracy: 0.9185\n",
      "\n",
      "Epoch 00109: saving model to model/keypoint_classifier/keypoint_classifier.hdf5\n",
      "Epoch 110/1000\n",
      "29/29 [==============================] - 0s 2ms/step - loss: 0.5754 - accuracy: 0.7755 - val_loss: 0.3148 - val_accuracy: 0.9243\n"
     ]
    },
    {
     "name": "stdout",
     "output_type": "stream",
     "text": [
      "\n",
      "Epoch 00110: saving model to model/keypoint_classifier/keypoint_classifier.hdf5\n",
      "Epoch 111/1000\n",
      "29/29 [==============================] - 0s 2ms/step - loss: 0.5677 - accuracy: 0.7876 - val_loss: 0.3102 - val_accuracy: 0.9235\n",
      "\n",
      "Epoch 00111: saving model to model/keypoint_classifier/keypoint_classifier.hdf5\n",
      "Epoch 112/1000\n",
      "29/29 [==============================] - 0s 3ms/step - loss: 0.6317 - accuracy: 0.7698 - val_loss: 0.3152 - val_accuracy: 0.9218\n",
      "\n",
      "Epoch 00112: saving model to model/keypoint_classifier/keypoint_classifier.hdf5\n",
      "Epoch 113/1000\n",
      "29/29 [==============================] - 0s 3ms/step - loss: 0.5604 - accuracy: 0.7880 - val_loss: 0.3092 - val_accuracy: 0.9243\n",
      "\n",
      "Epoch 00113: saving model to model/keypoint_classifier/keypoint_classifier.hdf5\n",
      "Epoch 114/1000\n",
      "29/29 [==============================] - 0s 3ms/step - loss: 0.6052 - accuracy: 0.7748 - val_loss: 0.3123 - val_accuracy: 0.9218\n",
      "\n",
      "Epoch 00114: saving model to model/keypoint_classifier/keypoint_classifier.hdf5\n",
      "Epoch 115/1000\n",
      "29/29 [==============================] - 0s 3ms/step - loss: 0.6037 - accuracy: 0.7721 - val_loss: 0.3193 - val_accuracy: 0.9243\n",
      "\n",
      "Epoch 00115: saving model to model/keypoint_classifier/keypoint_classifier.hdf5\n",
      "Epoch 116/1000\n",
      "29/29 [==============================] - 0s 3ms/step - loss: 0.5762 - accuracy: 0.7839 - val_loss: 0.3156 - val_accuracy: 0.9201\n",
      "\n",
      "Epoch 00116: saving model to model/keypoint_classifier/keypoint_classifier.hdf5\n",
      "Epoch 117/1000\n",
      "29/29 [==============================] - 0s 3ms/step - loss: 0.6022 - accuracy: 0.7771 - val_loss: 0.3128 - val_accuracy: 0.9268\n",
      "\n",
      "Epoch 00117: saving model to model/keypoint_classifier/keypoint_classifier.hdf5\n",
      "Epoch 118/1000\n",
      "29/29 [==============================] - 0s 3ms/step - loss: 0.5685 - accuracy: 0.7866 - val_loss: 0.3103 - val_accuracy: 0.9309\n",
      "\n",
      "Epoch 00118: saving model to model/keypoint_classifier/keypoint_classifier.hdf5\n",
      "Epoch 119/1000\n",
      "29/29 [==============================] - 0s 3ms/step - loss: 0.5886 - accuracy: 0.7779 - val_loss: 0.3091 - val_accuracy: 0.9309\n",
      "\n",
      "Epoch 00119: saving model to model/keypoint_classifier/keypoint_classifier.hdf5\n",
      "Epoch 120/1000\n",
      "29/29 [==============================] - 0s 2ms/step - loss: 0.5421 - accuracy: 0.8033 - val_loss: 0.3126 - val_accuracy: 0.9260\n",
      "\n",
      "Epoch 00120: saving model to model/keypoint_classifier/keypoint_classifier.hdf5\n",
      "Epoch 121/1000\n",
      "29/29 [==============================] - 0s 2ms/step - loss: 0.5564 - accuracy: 0.7935 - val_loss: 0.3118 - val_accuracy: 0.9210\n",
      "\n",
      "Epoch 00121: saving model to model/keypoint_classifier/keypoint_classifier.hdf5\n",
      "Epoch 122/1000\n",
      "29/29 [==============================] - 0s 2ms/step - loss: 0.5695 - accuracy: 0.7919 - val_loss: 0.3121 - val_accuracy: 0.9251\n",
      "\n",
      "Epoch 00122: saving model to model/keypoint_classifier/keypoint_classifier.hdf5\n",
      "Epoch 123/1000\n",
      "29/29 [==============================] - 0s 2ms/step - loss: 0.5721 - accuracy: 0.7774 - val_loss: 0.3077 - val_accuracy: 0.9285\n",
      "\n",
      "Epoch 00123: saving model to model/keypoint_classifier/keypoint_classifier.hdf5\n",
      "Epoch 124/1000\n",
      "29/29 [==============================] - 0s 2ms/step - loss: 0.5571 - accuracy: 0.7903 - val_loss: 0.3133 - val_accuracy: 0.9251\n",
      "\n",
      "Epoch 00124: saving model to model/keypoint_classifier/keypoint_classifier.hdf5\n",
      "Epoch 125/1000\n",
      "29/29 [==============================] - 0s 2ms/step - loss: 0.5678 - accuracy: 0.7821 - val_loss: 0.3180 - val_accuracy: 0.9185\n",
      "\n",
      "Epoch 00125: saving model to model/keypoint_classifier/keypoint_classifier.hdf5\n",
      "Epoch 126/1000\n",
      "29/29 [==============================] - 0s 2ms/step - loss: 0.5705 - accuracy: 0.7750 - val_loss: 0.3161 - val_accuracy: 0.9293\n",
      "\n",
      "Epoch 00126: saving model to model/keypoint_classifier/keypoint_classifier.hdf5\n",
      "Epoch 127/1000\n",
      "29/29 [==============================] - 0s 2ms/step - loss: 0.5449 - accuracy: 0.8005 - val_loss: 0.3087 - val_accuracy: 0.9285\n",
      "\n",
      "Epoch 00127: saving model to model/keypoint_classifier/keypoint_classifier.hdf5\n",
      "Epoch 128/1000\n",
      "29/29 [==============================] - 0s 2ms/step - loss: 0.5736 - accuracy: 0.7814 - val_loss: 0.3102 - val_accuracy: 0.9210\n",
      "\n",
      "Epoch 00128: saving model to model/keypoint_classifier/keypoint_classifier.hdf5\n",
      "Epoch 129/1000\n",
      "29/29 [==============================] - 0s 2ms/step - loss: 0.5703 - accuracy: 0.7835 - val_loss: 0.2998 - val_accuracy: 0.9359\n",
      "\n",
      "Epoch 00129: saving model to model/keypoint_classifier/keypoint_classifier.hdf5\n",
      "Epoch 130/1000\n",
      "29/29 [==============================] - 0s 2ms/step - loss: 0.5525 - accuracy: 0.7866 - val_loss: 0.3069 - val_accuracy: 0.9218\n",
      "\n",
      "Epoch 00130: saving model to model/keypoint_classifier/keypoint_classifier.hdf5\n",
      "Epoch 131/1000\n",
      "29/29 [==============================] - 0s 2ms/step - loss: 0.5233 - accuracy: 0.8059 - val_loss: 0.3005 - val_accuracy: 0.9260\n",
      "\n",
      "Epoch 00131: saving model to model/keypoint_classifier/keypoint_classifier.hdf5\n",
      "Epoch 132/1000\n",
      "29/29 [==============================] - 0s 2ms/step - loss: 0.5736 - accuracy: 0.7767 - val_loss: 0.3063 - val_accuracy: 0.9226\n",
      "\n",
      "Epoch 00132: saving model to model/keypoint_classifier/keypoint_classifier.hdf5\n",
      "Epoch 133/1000\n",
      "29/29 [==============================] - 0s 2ms/step - loss: 0.5734 - accuracy: 0.7814 - val_loss: 0.3018 - val_accuracy: 0.9251\n",
      "\n",
      "Epoch 00133: saving model to model/keypoint_classifier/keypoint_classifier.hdf5\n",
      "Epoch 134/1000\n",
      "29/29 [==============================] - 0s 2ms/step - loss: 0.5808 - accuracy: 0.7896 - val_loss: 0.2991 - val_accuracy: 0.9326\n",
      "\n",
      "Epoch 00134: saving model to model/keypoint_classifier/keypoint_classifier.hdf5\n",
      "Epoch 135/1000\n",
      "29/29 [==============================] - 0s 2ms/step - loss: 0.5555 - accuracy: 0.7833 - val_loss: 0.3012 - val_accuracy: 0.9309\n",
      "\n",
      "Epoch 00135: saving model to model/keypoint_classifier/keypoint_classifier.hdf5\n",
      "Epoch 136/1000\n",
      "29/29 [==============================] - 0s 2ms/step - loss: 0.5605 - accuracy: 0.7938 - val_loss: 0.3026 - val_accuracy: 0.9301\n",
      "\n",
      "Epoch 00136: saving model to model/keypoint_classifier/keypoint_classifier.hdf5\n",
      "Epoch 137/1000\n",
      "29/29 [==============================] - 0s 2ms/step - loss: 0.5700 - accuracy: 0.7897 - val_loss: 0.3055 - val_accuracy: 0.9235\n",
      "\n",
      "Epoch 00137: saving model to model/keypoint_classifier/keypoint_classifier.hdf5\n",
      "Epoch 138/1000\n",
      "29/29 [==============================] - 0s 2ms/step - loss: 0.5631 - accuracy: 0.7830 - val_loss: 0.3040 - val_accuracy: 0.9268\n",
      "\n",
      "Epoch 00138: saving model to model/keypoint_classifier/keypoint_classifier.hdf5\n",
      "Epoch 139/1000\n",
      "29/29 [==============================] - 0s 2ms/step - loss: 0.5741 - accuracy: 0.7859 - val_loss: 0.2987 - val_accuracy: 0.9318\n",
      "\n",
      "Epoch 00139: saving model to model/keypoint_classifier/keypoint_classifier.hdf5\n",
      "Epoch 140/1000\n",
      "29/29 [==============================] - 0s 2ms/step - loss: 0.5331 - accuracy: 0.7971 - val_loss: 0.2988 - val_accuracy: 0.9318\n",
      "\n",
      "Epoch 00140: saving model to model/keypoint_classifier/keypoint_classifier.hdf5\n",
      "Epoch 141/1000\n",
      "29/29 [==============================] - 0s 2ms/step - loss: 0.5567 - accuracy: 0.7961 - val_loss: 0.3021 - val_accuracy: 0.9251\n",
      "\n",
      "Epoch 00141: saving model to model/keypoint_classifier/keypoint_classifier.hdf5\n",
      "Epoch 142/1000\n",
      "29/29 [==============================] - 0s 2ms/step - loss: 0.5531 - accuracy: 0.7936 - val_loss: 0.3036 - val_accuracy: 0.9235\n",
      "\n",
      "Epoch 00142: saving model to model/keypoint_classifier/keypoint_classifier.hdf5\n",
      "Epoch 143/1000\n",
      "29/29 [==============================] - 0s 2ms/step - loss: 0.5473 - accuracy: 0.7946 - val_loss: 0.2958 - val_accuracy: 0.9276\n",
      "\n",
      "Epoch 00143: saving model to model/keypoint_classifier/keypoint_classifier.hdf5\n",
      "Epoch 144/1000\n",
      "29/29 [==============================] - 0s 2ms/step - loss: 0.5404 - accuracy: 0.8022 - val_loss: 0.2978 - val_accuracy: 0.9293\n",
      "\n",
      "Epoch 00144: saving model to model/keypoint_classifier/keypoint_classifier.hdf5\n",
      "Epoch 145/1000\n",
      "29/29 [==============================] - 0s 2ms/step - loss: 0.5321 - accuracy: 0.7976 - val_loss: 0.2985 - val_accuracy: 0.9268\n",
      "\n",
      "Epoch 00145: saving model to model/keypoint_classifier/keypoint_classifier.hdf5\n",
      "Epoch 146/1000\n",
      "29/29 [==============================] - 0s 2ms/step - loss: 0.5581 - accuracy: 0.7948 - val_loss: 0.3019 - val_accuracy: 0.9268\n",
      "\n",
      "Epoch 00146: saving model to model/keypoint_classifier/keypoint_classifier.hdf5\n",
      "Epoch 147/1000\n"
     ]
    },
    {
     "name": "stdout",
     "output_type": "stream",
     "text": [
      "29/29 [==============================] - 0s 2ms/step - loss: 0.5481 - accuracy: 0.7909 - val_loss: 0.3015 - val_accuracy: 0.9218\n",
      "\n",
      "Epoch 00147: saving model to model/keypoint_classifier/keypoint_classifier.hdf5\n",
      "Epoch 148/1000\n",
      "29/29 [==============================] - 0s 2ms/step - loss: 0.5421 - accuracy: 0.7880 - val_loss: 0.3007 - val_accuracy: 0.9276\n",
      "\n",
      "Epoch 00148: saving model to model/keypoint_classifier/keypoint_classifier.hdf5\n",
      "Epoch 149/1000\n",
      "29/29 [==============================] - 0s 2ms/step - loss: 0.5362 - accuracy: 0.8041 - val_loss: 0.2986 - val_accuracy: 0.9251\n",
      "\n",
      "Epoch 00149: saving model to model/keypoint_classifier/keypoint_classifier.hdf5\n",
      "Epoch 150/1000\n",
      "29/29 [==============================] - 0s 2ms/step - loss: 0.5592 - accuracy: 0.7744 - val_loss: 0.3047 - val_accuracy: 0.9193\n",
      "\n",
      "Epoch 00150: saving model to model/keypoint_classifier/keypoint_classifier.hdf5\n",
      "Epoch 151/1000\n",
      "29/29 [==============================] - 0s 2ms/step - loss: 0.5634 - accuracy: 0.7893 - val_loss: 0.2974 - val_accuracy: 0.9276\n",
      "\n",
      "Epoch 00151: saving model to model/keypoint_classifier/keypoint_classifier.hdf5\n",
      "Epoch 152/1000\n",
      "29/29 [==============================] - 0s 2ms/step - loss: 0.5489 - accuracy: 0.7847 - val_loss: 0.3015 - val_accuracy: 0.9260\n",
      "\n",
      "Epoch 00152: saving model to model/keypoint_classifier/keypoint_classifier.hdf5\n",
      "Epoch 153/1000\n",
      "29/29 [==============================] - 0s 2ms/step - loss: 0.5266 - accuracy: 0.8022 - val_loss: 0.2927 - val_accuracy: 0.9309\n",
      "\n",
      "Epoch 00153: saving model to model/keypoint_classifier/keypoint_classifier.hdf5\n",
      "Epoch 154/1000\n",
      "29/29 [==============================] - 0s 2ms/step - loss: 0.5337 - accuracy: 0.8030 - val_loss: 0.2956 - val_accuracy: 0.9293\n",
      "\n",
      "Epoch 00154: saving model to model/keypoint_classifier/keypoint_classifier.hdf5\n",
      "Epoch 155/1000\n",
      "29/29 [==============================] - 0s 2ms/step - loss: 0.5367 - accuracy: 0.7922 - val_loss: 0.2981 - val_accuracy: 0.9293\n",
      "\n",
      "Epoch 00155: saving model to model/keypoint_classifier/keypoint_classifier.hdf5\n",
      "Epoch 156/1000\n",
      "29/29 [==============================] - 0s 2ms/step - loss: 0.5464 - accuracy: 0.7901 - val_loss: 0.2842 - val_accuracy: 0.9309\n",
      "\n",
      "Epoch 00156: saving model to model/keypoint_classifier/keypoint_classifier.hdf5\n",
      "Epoch 157/1000\n",
      "29/29 [==============================] - 0s 2ms/step - loss: 0.5471 - accuracy: 0.8031 - val_loss: 0.2855 - val_accuracy: 0.9309\n",
      "\n",
      "Epoch 00157: saving model to model/keypoint_classifier/keypoint_classifier.hdf5\n",
      "Epoch 158/1000\n",
      "29/29 [==============================] - 0s 2ms/step - loss: 0.5267 - accuracy: 0.8002 - val_loss: 0.2849 - val_accuracy: 0.9343\n",
      "\n",
      "Epoch 00158: saving model to model/keypoint_classifier/keypoint_classifier.hdf5\n",
      "Epoch 159/1000\n",
      "29/29 [==============================] - 0s 2ms/step - loss: 0.5398 - accuracy: 0.7882 - val_loss: 0.2899 - val_accuracy: 0.9260\n",
      "\n",
      "Epoch 00159: saving model to model/keypoint_classifier/keypoint_classifier.hdf5\n",
      "Epoch 160/1000\n",
      "29/29 [==============================] - 0s 2ms/step - loss: 0.5299 - accuracy: 0.7985 - val_loss: 0.2849 - val_accuracy: 0.9334\n",
      "\n",
      "Epoch 00160: saving model to model/keypoint_classifier/keypoint_classifier.hdf5\n",
      "Epoch 161/1000\n",
      "29/29 [==============================] - 0s 2ms/step - loss: 0.5563 - accuracy: 0.7873 - val_loss: 0.2910 - val_accuracy: 0.9251\n",
      "\n",
      "Epoch 00161: saving model to model/keypoint_classifier/keypoint_classifier.hdf5\n",
      "Epoch 162/1000\n",
      "29/29 [==============================] - 0s 2ms/step - loss: 0.5319 - accuracy: 0.7938 - val_loss: 0.2846 - val_accuracy: 0.9309\n",
      "\n",
      "Epoch 00162: saving model to model/keypoint_classifier/keypoint_classifier.hdf5\n",
      "Epoch 163/1000\n",
      "29/29 [==============================] - 0s 2ms/step - loss: 0.5209 - accuracy: 0.7985 - val_loss: 0.2882 - val_accuracy: 0.9318\n",
      "\n",
      "Epoch 00163: saving model to model/keypoint_classifier/keypoint_classifier.hdf5\n",
      "Epoch 164/1000\n",
      "29/29 [==============================] - 0s 2ms/step - loss: 0.5327 - accuracy: 0.7973 - val_loss: 0.2836 - val_accuracy: 0.9309\n",
      "\n",
      "Epoch 00164: saving model to model/keypoint_classifier/keypoint_classifier.hdf5\n",
      "Epoch 165/1000\n",
      "29/29 [==============================] - 0s 2ms/step - loss: 0.5283 - accuracy: 0.8063 - val_loss: 0.2881 - val_accuracy: 0.9268\n",
      "\n",
      "Epoch 00165: saving model to model/keypoint_classifier/keypoint_classifier.hdf5\n",
      "Epoch 166/1000\n",
      "29/29 [==============================] - 0s 2ms/step - loss: 0.5327 - accuracy: 0.7975 - val_loss: 0.2891 - val_accuracy: 0.9276\n",
      "\n",
      "Epoch 00166: saving model to model/keypoint_classifier/keypoint_classifier.hdf5\n",
      "Epoch 167/1000\n",
      "29/29 [==============================] - 0s 2ms/step - loss: 0.5482 - accuracy: 0.7856 - val_loss: 0.2899 - val_accuracy: 0.9268\n",
      "\n",
      "Epoch 00167: saving model to model/keypoint_classifier/keypoint_classifier.hdf5\n",
      "Epoch 168/1000\n",
      "29/29 [==============================] - 0s 2ms/step - loss: 0.5316 - accuracy: 0.7978 - val_loss: 0.2904 - val_accuracy: 0.9301\n",
      "\n",
      "Epoch 00168: saving model to model/keypoint_classifier/keypoint_classifier.hdf5\n",
      "Epoch 169/1000\n",
      "29/29 [==============================] - 0s 2ms/step - loss: 0.5434 - accuracy: 0.7888 - val_loss: 0.2888 - val_accuracy: 0.9293\n",
      "\n",
      "Epoch 00169: saving model to model/keypoint_classifier/keypoint_classifier.hdf5\n",
      "Epoch 170/1000\n",
      "29/29 [==============================] - 0s 2ms/step - loss: 0.5559 - accuracy: 0.7875 - val_loss: 0.2866 - val_accuracy: 0.9301\n",
      "\n",
      "Epoch 00170: saving model to model/keypoint_classifier/keypoint_classifier.hdf5\n",
      "Epoch 171/1000\n",
      "29/29 [==============================] - 0s 2ms/step - loss: 0.5517 - accuracy: 0.7938 - val_loss: 0.2868 - val_accuracy: 0.9251\n",
      "\n",
      "Epoch 00171: saving model to model/keypoint_classifier/keypoint_classifier.hdf5\n",
      "Epoch 172/1000\n",
      "29/29 [==============================] - 0s 2ms/step - loss: 0.5254 - accuracy: 0.7975 - val_loss: 0.2880 - val_accuracy: 0.9285\n",
      "\n",
      "Epoch 00172: saving model to model/keypoint_classifier/keypoint_classifier.hdf5\n",
      "Epoch 173/1000\n",
      "29/29 [==============================] - 0s 2ms/step - loss: 0.5191 - accuracy: 0.8028 - val_loss: 0.2958 - val_accuracy: 0.9235\n",
      "\n",
      "Epoch 00173: saving model to model/keypoint_classifier/keypoint_classifier.hdf5\n",
      "Epoch 174/1000\n",
      "29/29 [==============================] - 0s 2ms/step - loss: 0.5693 - accuracy: 0.7837 - val_loss: 0.2945 - val_accuracy: 0.9251\n",
      "\n",
      "Epoch 00174: saving model to model/keypoint_classifier/keypoint_classifier.hdf5\n",
      "Epoch 175/1000\n",
      "29/29 [==============================] - 0s 2ms/step - loss: 0.5257 - accuracy: 0.8032 - val_loss: 0.2854 - val_accuracy: 0.9268\n",
      "\n",
      "Epoch 00175: saving model to model/keypoint_classifier/keypoint_classifier.hdf5\n",
      "Epoch 176/1000\n",
      "29/29 [==============================] - 0s 2ms/step - loss: 0.5357 - accuracy: 0.7820 - val_loss: 0.2836 - val_accuracy: 0.9293\n",
      "\n",
      "Epoch 00176: saving model to model/keypoint_classifier/keypoint_classifier.hdf5\n",
      "Epoch 177/1000\n",
      "29/29 [==============================] - 0s 2ms/step - loss: 0.5229 - accuracy: 0.7993 - val_loss: 0.2863 - val_accuracy: 0.9301\n",
      "\n",
      "Epoch 00177: saving model to model/keypoint_classifier/keypoint_classifier.hdf5\n",
      "Epoch 178/1000\n",
      "29/29 [==============================] - 0s 2ms/step - loss: 0.5077 - accuracy: 0.8074 - val_loss: 0.2890 - val_accuracy: 0.9309\n",
      "\n",
      "Epoch 00178: saving model to model/keypoint_classifier/keypoint_classifier.hdf5\n",
      "Epoch 179/1000\n",
      "29/29 [==============================] - 0s 2ms/step - loss: 0.5166 - accuracy: 0.8056 - val_loss: 0.2773 - val_accuracy: 0.9276\n",
      "\n",
      "Epoch 00179: saving model to model/keypoint_classifier/keypoint_classifier.hdf5\n",
      "Epoch 180/1000\n",
      "29/29 [==============================] - 0s 2ms/step - loss: 0.5401 - accuracy: 0.7947 - val_loss: 0.2841 - val_accuracy: 0.9260\n",
      "\n",
      "Epoch 00180: saving model to model/keypoint_classifier/keypoint_classifier.hdf5\n",
      "Epoch 181/1000\n",
      "29/29 [==============================] - 0s 2ms/step - loss: 0.5495 - accuracy: 0.7890 - val_loss: 0.2884 - val_accuracy: 0.9251\n",
      "\n",
      "Epoch 00181: saving model to model/keypoint_classifier/keypoint_classifier.hdf5\n",
      "Epoch 182/1000\n",
      "29/29 [==============================] - 0s 2ms/step - loss: 0.5191 - accuracy: 0.8026 - val_loss: 0.2853 - val_accuracy: 0.9218\n",
      "\n",
      "Epoch 00182: saving model to model/keypoint_classifier/keypoint_classifier.hdf5\n",
      "Epoch 183/1000\n",
      "29/29 [==============================] - 0s 2ms/step - loss: 0.5227 - accuracy: 0.8049 - val_loss: 0.2881 - val_accuracy: 0.9293\n"
     ]
    },
    {
     "name": "stdout",
     "output_type": "stream",
     "text": [
      "\n",
      "Epoch 00183: saving model to model/keypoint_classifier/keypoint_classifier.hdf5\n",
      "Epoch 184/1000\n",
      "29/29 [==============================] - 0s 2ms/step - loss: 0.5173 - accuracy: 0.7978 - val_loss: 0.2918 - val_accuracy: 0.9243\n",
      "\n",
      "Epoch 00184: saving model to model/keypoint_classifier/keypoint_classifier.hdf5\n",
      "Epoch 185/1000\n",
      "29/29 [==============================] - 0s 2ms/step - loss: 0.5508 - accuracy: 0.7781 - val_loss: 0.2912 - val_accuracy: 0.9260\n",
      "\n",
      "Epoch 00185: saving model to model/keypoint_classifier/keypoint_classifier.hdf5\n",
      "Epoch 186/1000\n",
      "29/29 [==============================] - 0s 2ms/step - loss: 0.5442 - accuracy: 0.7937 - val_loss: 0.2928 - val_accuracy: 0.9276\n",
      "\n",
      "Epoch 00186: saving model to model/keypoint_classifier/keypoint_classifier.hdf5\n",
      "Epoch 187/1000\n",
      "29/29 [==============================] - 0s 2ms/step - loss: 0.5163 - accuracy: 0.8028 - val_loss: 0.2902 - val_accuracy: 0.9260\n",
      "\n",
      "Epoch 00187: saving model to model/keypoint_classifier/keypoint_classifier.hdf5\n",
      "Epoch 188/1000\n",
      "29/29 [==============================] - 0s 2ms/step - loss: 0.5433 - accuracy: 0.7930 - val_loss: 0.2812 - val_accuracy: 0.9260\n",
      "\n",
      "Epoch 00188: saving model to model/keypoint_classifier/keypoint_classifier.hdf5\n",
      "Epoch 189/1000\n",
      "29/29 [==============================] - 0s 2ms/step - loss: 0.5128 - accuracy: 0.8129 - val_loss: 0.2956 - val_accuracy: 0.9243\n",
      "\n",
      "Epoch 00189: saving model to model/keypoint_classifier/keypoint_classifier.hdf5\n",
      "Epoch 190/1000\n",
      "29/29 [==============================] - 0s 2ms/step - loss: 0.4961 - accuracy: 0.8027 - val_loss: 0.2819 - val_accuracy: 0.9293\n",
      "\n",
      "Epoch 00190: saving model to model/keypoint_classifier/keypoint_classifier.hdf5\n",
      "Epoch 191/1000\n",
      "29/29 [==============================] - 0s 2ms/step - loss: 0.5134 - accuracy: 0.8112 - val_loss: 0.2807 - val_accuracy: 0.9293\n",
      "\n",
      "Epoch 00191: saving model to model/keypoint_classifier/keypoint_classifier.hdf5\n",
      "Epoch 192/1000\n",
      "29/29 [==============================] - 0s 2ms/step - loss: 0.5086 - accuracy: 0.8084 - val_loss: 0.2857 - val_accuracy: 0.9268\n",
      "\n",
      "Epoch 00192: saving model to model/keypoint_classifier/keypoint_classifier.hdf5\n",
      "Epoch 193/1000\n",
      "29/29 [==============================] - 0s 2ms/step - loss: 0.5131 - accuracy: 0.8073 - val_loss: 0.2831 - val_accuracy: 0.9243\n",
      "\n",
      "Epoch 00193: saving model to model/keypoint_classifier/keypoint_classifier.hdf5\n",
      "Epoch 194/1000\n",
      "29/29 [==============================] - 0s 2ms/step - loss: 0.5253 - accuracy: 0.8014 - val_loss: 0.2874 - val_accuracy: 0.9268\n",
      "\n",
      "Epoch 00194: saving model to model/keypoint_classifier/keypoint_classifier.hdf5\n",
      "Epoch 195/1000\n",
      "29/29 [==============================] - 0s 2ms/step - loss: 0.5391 - accuracy: 0.8071 - val_loss: 0.2891 - val_accuracy: 0.9276\n",
      "\n",
      "Epoch 00195: saving model to model/keypoint_classifier/keypoint_classifier.hdf5\n",
      "Epoch 196/1000\n",
      "29/29 [==============================] - 0s 2ms/step - loss: 0.5337 - accuracy: 0.7995 - val_loss: 0.2888 - val_accuracy: 0.9251\n",
      "\n",
      "Epoch 00196: saving model to model/keypoint_classifier/keypoint_classifier.hdf5\n",
      "Epoch 197/1000\n",
      "29/29 [==============================] - 0s 2ms/step - loss: 0.5063 - accuracy: 0.8090 - val_loss: 0.2832 - val_accuracy: 0.9293\n",
      "\n",
      "Epoch 00197: saving model to model/keypoint_classifier/keypoint_classifier.hdf5\n",
      "Epoch 198/1000\n",
      "29/29 [==============================] - 0s 2ms/step - loss: 0.5347 - accuracy: 0.7962 - val_loss: 0.2902 - val_accuracy: 0.9218\n",
      "\n",
      "Epoch 00198: saving model to model/keypoint_classifier/keypoint_classifier.hdf5\n",
      "Epoch 199/1000\n",
      "29/29 [==============================] - 0s 2ms/step - loss: 0.5378 - accuracy: 0.7867 - val_loss: 0.3007 - val_accuracy: 0.9168\n",
      "\n",
      "Epoch 00199: saving model to model/keypoint_classifier/keypoint_classifier.hdf5\n",
      "Epoch 00199: early stopping\n"
     ]
    },
    {
     "data": {
      "text/plain": [
       "<tensorflow.python.keras.callbacks.History at 0x7ffac447e2d0>"
      ]
     },
     "execution_count": 11,
     "metadata": {},
     "output_type": "execute_result"
    }
   ],
   "source": [
    "model.fit(\n",
    "    X_train,\n",
    "    y_train,\n",
    "    epochs=1000,\n",
    "    batch_size=128,\n",
    "    validation_data=(X_test, y_test),\n",
    "    callbacks=[cp_callback, es_callback]\n",
    ")"
   ]
  },
  {
   "cell_type": "code",
   "execution_count": 12,
   "metadata": {
    "colab": {
     "base_uri": "https://localhost:8080/"
    },
    "id": "pxvb2Y299hE3",
    "outputId": "59eb3185-2e37-4b9e-bc9d-ab1b8ac29b7f"
   },
   "outputs": [
    {
     "name": "stdout",
     "output_type": "stream",
     "text": [
      "10/10 [==============================] - 0s 695us/step - loss: 0.3007 - accuracy: 0.9168\n"
     ]
    }
   ],
   "source": [
    "# Model evaluation\n",
    "val_loss, val_acc = model.evaluate(X_test, y_test, batch_size=128)"
   ]
  },
  {
   "cell_type": "code",
   "execution_count": 13,
   "metadata": {
    "id": "RBkmDeUW9hE4"
   },
   "outputs": [],
   "source": [
    "# Loading the saved model\n",
    "model = tf.keras.models.load_model(model_save_path)"
   ]
  },
  {
   "cell_type": "code",
   "execution_count": 14,
   "metadata": {
    "colab": {
     "base_uri": "https://localhost:8080/"
    },
    "id": "tFz9Tb0I9hE4",
    "outputId": "1c3b3528-54ae-4ee2-ab04-77429211cbef"
   },
   "outputs": [
    {
     "name": "stdout",
     "output_type": "stream",
     "text": [
      "[9.2540431e-01 7.3449142e-02 1.1388666e-03 7.6424376e-06 2.0943172e-10]\n",
      "0\n"
     ]
    }
   ],
   "source": [
    "# Inference test\n",
    "predict_result = model.predict(np.array([X_test[0]]))\n",
    "print(np.squeeze(predict_result))\n",
    "print(np.argmax(np.squeeze(predict_result)))"
   ]
  },
  {
   "cell_type": "markdown",
   "metadata": {
    "id": "S3U4yNWx9hE4"
   },
   "source": [
    "# Confusion matrix"
   ]
  },
  {
   "cell_type": "code",
   "execution_count": 15,
   "metadata": {
    "colab": {
     "base_uri": "https://localhost:8080/",
     "height": 582
    },
    "id": "AP1V6SCk9hE5",
    "outputId": "08e41a80-7a4a-4619-8125-ecc371368d19"
   },
   "outputs": [
    {
     "data": {
      "image/png": "[encoded data removed]",
      "text/plain": [
       "<Figure size 504x432 with 2 Axes>"
      ]
     },
     "metadata": {
      "needs_background": "light"
     },
     "output_type": "display_data"
    },
    {
     "name": "stdout",
     "output_type": "stream",
     "text": [
      "Classification Report\n",
      "              precision    recall  f1-score   support\n",
      "\n",
      "           0       0.98      0.99      0.98       402\n",
      "           1       0.97      0.91      0.94       364\n",
      "           2       0.81      0.97      0.89       348\n",
      "           3       0.00      0.00      0.00        40\n",
      "           4       0.92      0.75      0.83        48\n",
      "\n",
      "    accuracy                           0.92      1202\n",
      "   macro avg       0.74      0.72      0.73      1202\n",
      "weighted avg       0.89      0.92      0.90      1202\n",
      "\n"
     ]
    },
    {
     "name": "stderr",
     "output_type": "stream",
     "text": [
      "/Users/suhyeonyoo/opt/anaconda3/envs/gesture/lib/python3.7/site-packages/sklearn/metrics/_classification.py:1245: UndefinedMetricWarning: Precision and F-score are ill-defined and being set to 0.0 in labels with no predicted samples. Use `zero_division` parameter to control this behavior.\n",
      "  _warn_prf(average, modifier, msg_start, len(result))\n",
      "/Users/suhyeonyoo/opt/anaconda3/envs/gesture/lib/python3.7/site-packages/sklearn/metrics/_classification.py:1245: UndefinedMetricWarning: Precision and F-score are ill-defined and being set to 0.0 in labels with no predicted samples. Use `zero_division` parameter to control this behavior.\n",
      "  _warn_prf(average, modifier, msg_start, len(result))\n",
      "/Users/suhyeonyoo/opt/anaconda3/envs/gesture/lib/python3.7/site-packages/sklearn/metrics/_classification.py:1245: UndefinedMetricWarning: Precision and F-score are ill-defined and being set to 0.0 in labels with no predicted samples. Use `zero_division` parameter to control this behavior.\n",
      "  _warn_prf(average, modifier, msg_start, len(result))\n"
     ]
    }
   ],
   "source": [
    "import pandas as pd\n",
    "import seaborn as sns\n",
    "import matplotlib.pyplot as plt\n",
    "from sklearn.metrics import confusion_matrix, classification_report\n",
    "\n",
    "def print_confusion_matrix(y_true, y_pred, report=True):\n",
    "    labels = sorted(list(set(y_true)))\n",
    "    cmx_data = confusion_matrix(y_true, y_pred, labels=labels)\n",
    "    \n",
    "    df_cmx = pd.DataFrame(cmx_data, index=labels, columns=labels)\n",
    " \n",
    "    fig, ax = plt.subplots(figsize=(7, 6))\n",
    "    sns.heatmap(df_cmx, annot=True, fmt='g' ,square=False)\n",
    "    ax.set_ylim(len(set(y_true)), 0)\n",
    "    plt.show()\n",
    "    \n",
    "    if report:\n",
    "        print('Classification Report')\n",
    "        print(classification_report(y_test, y_pred))\n",
    "\n",
    "Y_pred = model.predict(X_test)\n",
    "y_pred = np.argmax(Y_pred, axis=1)\n",
    "\n",
    "print_confusion_matrix(y_test, y_pred)"
   ]
  },
  {
   "cell_type": "markdown",
   "metadata": {
    "id": "FNP6aqzc9hE5"
   },
   "source": [
    "# Convert to model for Tensorflow-Lite"
   ]
  },
  {
   "cell_type": "code",
   "execution_count": 16,
   "metadata": {
    "id": "ODjnYyld9hE6"
   },
   "outputs": [],
   "source": [
    "# Save as a model dedicated to inference\n",
    "model.save(model_save_path, include_optimizer=False)"
   ]
  },
  {
   "cell_type": "code",
   "execution_count": 17,
   "metadata": {
    "colab": {
     "base_uri": "https://localhost:8080/"
    },
    "id": "zRfuK8Y59hE6",
    "outputId": "a4ca585c-b5d5-4244-8291-8674063209bb"
   },
   "outputs": [
    {
     "name": "stdout",
     "output_type": "stream",
     "text": [
      "INFO:tensorflow:Assets written to: /var/folders/sp/2t1914v93yb49zbkfxghzhdw0000gn/T/tmp_lmh068z/assets\n"
     ]
    },
    {
     "data": {
      "text/plain": [
       "6400"
      ]
     },
     "execution_count": 17,
     "metadata": {},
     "output_type": "execute_result"
    }
   ],
   "source": [
    "# Transform model (quantization)\n",
    "\n",
    "converter = tf.lite.TFLiteConverter.from_keras_model(model)\n",
    "converter.optimizations = [tf.lite.Optimize.DEFAULT]\n",
    "tflite_quantized_model = converter.convert()\n",
    "\n",
    "open(tflite_save_path, 'wb').write(tflite_quantized_model)"
   ]
  },
  {
   "cell_type": "markdown",
   "metadata": {
    "id": "CHBPBXdx9hE6"
   },
   "source": [
    "# Inference test"
   ]
  },
  {
   "cell_type": "code",
   "execution_count": 18,
   "metadata": {
    "id": "mGAzLocO9hE7"
   },
   "outputs": [],
   "source": [
    "interpreter = tf.lite.Interpreter(model_path=tflite_save_path)\n",
    "interpreter.allocate_tensors()"
   ]
  },
  {
   "cell_type": "code",
   "execution_count": 19,
   "metadata": {
    "id": "oQuDK8YS9hE7"
   },
   "outputs": [],
   "source": [
    "# Get I / O tensor\n",
    "input_details = interpreter.get_input_details()\n",
    "output_details = interpreter.get_output_details()"
   ]
  },
  {
   "cell_type": "code",
   "execution_count": 20,
   "metadata": {
    "id": "2_ixAf_l9hE7"
   },
   "outputs": [],
   "source": [
    "interpreter.set_tensor(input_details[0]['index'], np.array([X_test[0]]))"
   ]
  },
  {
   "cell_type": "code",
   "execution_count": 21,
   "metadata": {
    "colab": {
     "base_uri": "https://localhost:8080/"
    },
    "id": "s4FoAnuc9hE7",
    "outputId": "91f18257-8d8b-4ef3-c558-e9b5f94fabbf",
    "scrolled": true
   },
   "outputs": [
    {
     "name": "stdout",
     "output_type": "stream",
     "text": [
      "CPU times: user 150 µs, sys: 60 µs, total: 210 µs\n",
      "Wall time: 178 µs\n"
     ]
    }
   ],
   "source": [
    "%%time\n",
    "# Inference implementation\n",
    "interpreter.invoke()\n",
    "tflite_results = interpreter.get_tensor(output_details[0]['index'])"
   ]
  },
  {
   "cell_type": "code",
   "execution_count": 22,
   "metadata": {
    "colab": {
     "base_uri": "https://localhost:8080/"
    },
    "id": "vONjp19J9hE8",
    "outputId": "77205e24-fd00-42c4-f7b6-e06e527c2cba"
   },
   "outputs": [
    {
     "name": "stdout",
     "output_type": "stream",
     "text": [
      "[9.2540443e-01 7.3449008e-02 1.1388668e-03 7.6424385e-06 2.0943214e-10]\n",
      "0\n"
     ]
    }
   ],
   "source": [
    "print(np.squeeze(tflite_results))\n",
    "print(np.argmax(np.squeeze(tflite_results)))"
   ]
  }
 ],
 "metadata": {
  "accelerator": "GPU",
  "colab": {
   "collapsed_sections": [],
   "name": "keypoint_classification_EN.ipynb",
   "provenance": [],
   "toc_visible": true
  },
  "kernelspec": {
   "display_name": "Python 3",
   "language": "python",
   "name": "python3"
  },
  "language_info": {
   "codemirror_mode": {
    "name": "ipython",
    "version": 3
   },
   "file_extension": ".py",
   "mimetype": "text/x-python",
   "name": "python",
   "nbconvert_exporter": "python",
   "pygments_lexer": "ipython3",
   "version": "3.7.10"
  }
 },
 "nbformat": 4,
 "nbformat_minor": 1
}
